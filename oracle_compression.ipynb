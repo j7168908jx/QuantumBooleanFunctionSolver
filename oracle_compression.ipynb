{
 "cells": [
  {
   "cell_type": "code",
   "execution_count": null,
   "metadata": {},
   "outputs": [],
   "source": [
    "import sys\n",
    "import os\n",
    "import numpy as np\n",
    "import time\n",
    "import pickle as pk\n",
    "import pandas as pd\n",
    "import logging\n",
    "logging.getLogger(\"qiskit\").setLevel(logging.WARNING)\n",
    "logging.getLogger(\"stevedore\").setLevel(logging.WARNING)\n",
    "\n",
    "from loguru import logger\n",
    "logger.remove()\n",
    "\n",
    "sys.path.insert(0, \"../\")\n",
    "# sys.path.insert(0, \"code/\")\n",
    "\n",
    "from generate_qc import compute_result_from_qc\n",
    "\n",
    "# num_var, num_sol, seed, sols, eqs\n",
    "# eqs_df = pk.load(open(\"output/eqs.pkl\", \"rb\"))  # type: pd.DataFrame\n",
    "eqs_df = pd.read_csv(\"output/eqs.csv\", index_col=0)\n",
    "eqs_df.eqs = eqs_df.eqs.apply(lambda x: [np.array(i) for i in eval(x)])\n",
    "eqs_df.sol = eqs_df.sol.apply(lambda x: eval(x))\n",
    "\n",
    "eqs_df = eqs_df[eqs_df.num_var.isin([15, 20, 25]) & eqs_df.num_sol.isin([1])]\n"
   ]
  },
  {
   "cell_type": "code",
   "execution_count": null,
   "metadata": {},
   "outputs": [],
   "source": [
    "eqs_df"
   ]
  },
  {
   "cell_type": "code",
   "execution_count": null,
   "metadata": {},
   "outputs": [],
   "source": [
    "df15 = eqs_df[eqs_df.num_var == 15][:15]\n",
    "df20 = eqs_df[eqs_df.num_var == 20][:15]\n",
    "df25 = eqs_df[eqs_df.num_var == 25][:15]\n"
   ]
  },
  {
   "cell_type": "code",
   "execution_count": null,
   "metadata": {},
   "outputs": [],
   "source": []
  },
  {
   "cell_type": "code",
   "execution_count": null,
   "metadata": {},
   "outputs": [],
   "source": [
    "\n",
    "num_vars = {\n",
    "    15: df15,\n",
    "    20: df20,\n",
    "    25: df25\n",
    "}\n",
    "specs = {\n",
    "    15: [[7, 1], [4, 2], [5, 2]],\n",
    "    20: [[4, 2], [5, 2], [5, 3]],\n",
    "    25: [[5, 2], [6, 2], [5, 3]]\n",
    "}\n",
    "for n, df in num_vars.items():\n",
    "    for use_ancilla, level in specs[n]:\n",
    "        without_rearrange_res = []\n",
    "        with_rearrange_res = []\n",
    "        for i, row in df.iterrows():\n",
    "            eqs = row[\"eqs\"]\n",
    "            num_var = row[\"num_var\"]\n",
    "            num_sol = row[\"num_sol\"]\n",
    "            seed = row[\"seed\"]\n",
    "            sol = row[\"sol\"]\n",
    "\n",
    "            res = compute_result_from_qc(\n",
    "                num_var, seed, shots=1024,\n",
    "                split=-1, level=level, num_sols=num_sol,\n",
    "                use_ancilla=use_ancilla, iterations=3,\n",
    "                solutions=sol, eqs=eqs, dry_run=True,\n",
    "                arrange=False\n",
    "            )\n",
    "            depth = (res[\"depth of qc\"]-2) / res[\"num of iterating G\"]\n",
    "            # print(f\"without arrange: m={use_ancilla}, level={level}, avg depth={depth}\")\n",
    "            without_rearrange_res.append(depth)\n",
    "            res = compute_result_from_qc(\n",
    "                num_var, seed, shots=1024,\n",
    "                split=-1, level=level, num_sols=num_sol,\n",
    "                use_ancilla=use_ancilla, iterations=3,\n",
    "                solutions=sol, eqs=eqs, dry_run=True,\n",
    "                arrange=True\n",
    "            )\n",
    "            depth = (res[\"depth of qc\"]-2) / res[\"num of iterating G\"]\n",
    "            # print(f\"with arrange: m={use_ancilla}, level={level}, avg depth={depth}\")\n",
    "            with_rearrange_res.append(depth)\n",
    "        avg1 = sum(without_rearrange_res) / len(without_rearrange_res)\n",
    "        avg2 = sum(with_rearrange_res) / len(with_rearrange_res)\n",
    "        print(f\"n={n}, m={use_ancilla}, level={level}, 15eq avg without rearrange: {avg1}, with rearrange: {avg2}\")\n"
   ]
  }
 ],
 "metadata": {
  "kernelspec": {
   "display_name": "Python 3",
   "language": "python",
   "name": "python3"
  },
  "language_info": {
   "codemirror_mode": {
    "name": "ipython",
    "version": 3
   },
   "file_extension": ".py",
   "mimetype": "text/x-python",
   "name": "python",
   "nbconvert_exporter": "python",
   "pygments_lexer": "ipython3",
   "version": "3.10.13"
  },
  "orig_nbformat": 4
 },
 "nbformat": 4,
 "nbformat_minor": 2
}
